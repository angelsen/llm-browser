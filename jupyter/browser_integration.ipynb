{
 "cells": [
  {
   "cell_type": "markdown",
   "metadata": {},
   "source": [
    "# Browser Integration Tests\n",
    "\n",
    "This notebook tests integration of GitHub link detection with the browser functionality."
   ]
  },
  {
   "cell_type": "code",
   "execution_count": 1,
   "metadata": {},
   "outputs": [],
   "source": [
    "import sys\n",
    "import os\n",
    "import asyncio\n",
    "from typing import Dict, Optional\n",
    "\n",
    "# Add the parent directory to the path so we can import from the llm_browser package\n",
    "sys.path.append(os.path.abspath('..'))"
   ]
  },
  {
   "cell_type": "code",
   "metadata": {},
   "outputs": [],
   "source": "# Import the url conversion and link extraction functions from previous notebooks\ndef github_url_to_raw(github_url: str) -> str:\n    \"\"\"\n    Convert a GitHub URL (edit, blob, or tree) to its raw.githubusercontent.com equivalent.\n    \n    Args:\n        github_url: A GitHub URL pointing to a file\n        \n    Returns:\n        URL for the raw content version\n    \"\"\"\n    # Handle different GitHub URL patterns\n    if \"github.com\" not in github_url:\n        return github_url\n        \n    # Extract query parameters to preserve them\n    url_parts = github_url.split('?', 1)\n    base_url = url_parts[0]\n    query = f\"?{url_parts[1]}\" if len(url_parts) > 1 else \"\"\n    \n    # Handle edit links\n    if \"/edit/\" in base_url:\n        # Convert /edit/ to /raw/\n        raw_url = base_url.replace(\"/edit/\", \"/raw/\")\n        return raw_url + query\n        \n    # Handle blob links\n    elif \"/blob/\" in base_url:\n        # Replace github.com with raw.githubusercontent.com and /blob/ with /\n        raw_url = base_url.replace(\"github.com\", \"raw.githubusercontent.com\")\n        raw_url = raw_url.replace(\"/blob/\", \"/\")\n        return raw_url + query\n        \n    # Handle tree links (often used in \"Edit this page\" links)\n    elif \"/tree/\" in base_url:\n        # Replace github.com with raw.githubusercontent.com and /tree/ with /\n        raw_url = base_url.replace(\"github.com\", \"raw.githubusercontent.com\")\n        raw_url = raw_url.replace(\"/tree/\", \"/\")\n        return raw_url + query\n        \n    return github_url"
  },
  {
   "cell_type": "markdown",
   "metadata": {},
   "source": [
    "## Simulating the Browser Server\n",
    "\n",
    "Let's simulate the modified `browse_url` function to handle GitHub links."
   ]
  },
  {
   "cell_type": "code",
   "metadata": {},
   "outputs": [],
   "source": "# Import necessary packages\nimport httpx\nfrom bs4 import BeautifulSoup\nfrom llm_browser.utils.html import html_to_markdown, extract_title\nfrom llm_browser.utils.url import normalize_url, is_valid_url\n\n# Define a function to find GitHub source links\ndef find_github_source_link(html: str) -> Optional[Dict]:\n    \"\"\"\n    Find the most likely GitHub source link in an HTML document.\n    \n    Args:\n        html: Raw HTML content\n        \n    Returns:\n        Dictionary with link information or None if no suitable link found\n    \"\"\"\n    soup = BeautifulSoup(html, \"html.parser\")\n    links = []\n\n    for a_tag in soup.find_all(\"a\", href=True):\n        href = a_tag[\"href\"]\n        text = a_tag.get_text(strip=True)\n        \n        # Skip javascript links and empty links\n        if not href or not text or href.startswith(\"javascript:\"):\n            continue\n            \n        # Create a link data dictionary\n        link_data = {\n            \"href\": href,\n            \"text\": text,\n            \"is_github\": False,\n            \"is_edit_link\": False,\n            \"raw_url\": None\n        }\n                \n        # Check for GitHub links\n        if \"github.com\" in href:\n            link_data[\"is_github\"] = True\n            \n            if \"/edit/\" in href or \"/blob/\" in href or \"/tree/\" in href:\n                link_data[\"raw_url\"] = github_url_to_raw(href)\n                \n        # Check for common edit link texts\n        edit_phrases = [\"edit this page\", \"edit on github\", \"contribute to this page\", \"view source\"]\n        link_data[\"is_edit_link\"] = any(phrase in text.lower() for phrase in edit_phrases)\n            \n        links.append(link_data)\n    \n    # First, look for GitHub links that explicitly mention editing/viewing source\n    for link in links:\n        if link[\"is_github\"] and link[\"is_edit_link\"] and link[\"raw_url\"]:\n            return link\n    \n    # Next, look for any GitHub edit/blob/tree links\n    for link in links:\n        if link[\"is_github\"] and link[\"raw_url\"]:\n            return link\n    \n    return None\n\n# Simulate the browser functionality\nasync def enhanced_browse_url(url: str, prefer_raw: bool = False) -> str:\n    \"\"\"\n    Enhanced version of browse_url that can detect and follow GitHub raw links.\n    \n    Args:\n        url: The URL to fetch\n        prefer_raw: Whether to automatically follow raw links when found\n        \n    Returns:\n        Markdown content from the URL\n    \"\"\"\n    # Validate URL\n    if not is_valid_url(url):\n        return f\"Invalid URL: {url}\"\n        \n    user_agent = \"Mozilla/5.0 (Windows NT 10.0; Win64; x64) AppleWebKit/537.36 (KHTML, like Gecko) Chrome/91.0.4472.124 Safari/537.36\"\n    headers = {\"User-Agent\": user_agent}\n    \n    try:\n        async with httpx.AsyncClient() as client:\n            # Fetch the original URL\n            response = await client.get(url, headers=headers, timeout=30.0, follow_redirects=True)\n            response.raise_for_status()\n            html_content = response.text\n            \n            # Check if there's a GitHub source link\n            github_link = find_github_source_link(html_content)\n            used_raw = False\n            \n            # If we found a GitHub link with raw URL and prefer_raw is True, fetch the raw content instead\n            if github_link and github_link[\"raw_url\"] and prefer_raw:\n                raw_url = github_link[\"raw_url\"]\n                raw_response = await client.get(raw_url, headers=headers, timeout=30.0, follow_redirects=True)\n                \n                if raw_response.status_code == 200:\n                    # For raw content, we'll assume it's already in a good format (markdown or plain text)\n                    content = raw_response.text\n                    used_raw = True\n                    \n                    # Add a title if it's not already there\n                    if not content.startswith(\"#\"):\n                        # Extract filename from the URL\n                        filename = raw_url.split(\"/\")[-1]\n                        content = f\"# {filename}\\n\\n{content}\"\n                    \n                    return f\"### Content from {url} (using raw version: {raw_url})\\n\\n{content}\"\n            \n            # If we didn't use raw content, process the HTML\n            if not used_raw:\n                title = extract_title(html_content) or url\n                markdown_content = html_to_markdown(html_content)\n                content = f\"# {title}\\n\\n{markdown_content}\"\n                \n                # If we found a GitHub link but didn't use it, mention it\n                if github_link and github_link[\"raw_url\"]:\n                    content = f\"### Content from {url}\\n\\nNote: Raw version available at: {github_link['raw_url']}\\n\\n{content}\"\n                else:\n                    content = f\"### Content from {url}\\n\\n{content}\"\n                    \n                return content\n    except Exception as e:\n        return f\"Error fetching {url}: {str(e)}\""
  },
  {
   "cell_type": "markdown",
   "metadata": {},
   "source": [
    "## Test with Real URLs\n",
    "\n",
    "Let's test our enhanced browser with real documentation pages that have GitHub edit links."
   ]
  },
  {
   "cell_type": "code",
   "execution_count": 4,
   "metadata": {},
   "outputs": [
    {
     "name": "stdout",
     "output_type": "stream",
     "text": [
      "\n",
      "=== Testing with prefer_raw=False ===\n",
      "\n",
      "Fetching: https://svelte.dev/docs/introduction\n",
      "Result (first 500 chars): ### Content from https://svelte.dev/docs/introduction\n",
      "\n",
      "Note: Raw version available at: https://github.com/sveltejs/svelte/raw/main/documentation/docs/01-introduction/01-overview.md\n",
      "\n",
      "# Overview • Docs • Svelte\n",
      "\n",
      "SvelteIntroduction\n",
      "\n",
      "# Overview\n",
      "\n",
      " \n",
      "\n",
      "### On this page\n",
      "\n",
      " \n",
      "\n",
      "Svelte is a framework for building user interfaces on the web. It uses a compiler to turn declarative components written in HTML, CSS and JavaScript...\n",
      "\n",
      "App\n",
      "\n",
      "```\n",
      "<script>\n",
      "\tfunction greet() {\n",
      "\t\talert('Welcome to Svelte!');\n",
      "\t}\n",
      "</script>...\n",
      "\n",
      "Fetching: https://github.com/sveltejs/kit/blob/main/documentation/docs/10-getting-started/10-introduction.md\n",
      "Result (first 500 chars): ### Content from https://github.com/sveltejs/kit/blob/main/documentation/docs/10-getting-started/10-introduction.md\n",
      "\n",
      "Note: Raw version available at: https://raw.githubusercontent.com/sveltejs/vite-plugin-svelte/main/docs/config.md#hot\n",
      "\n",
      "# kit/documentation/docs/10-getting-started/10-introduction.md at main · sveltejs/kit · GitHub\n",
      "\n",
      "[sveltejs](/sveltejs) \n",
      "/\n",
      "**[kit](/sveltejs/kit)**\n",
      "Public\n",
      "\n",
      "* [Notifications](/login?return_to=%2Fsveltejs%2Fkit) You must be signed in to change notification settings\n",
      "* ...\n",
      "\n",
      "\n",
      "=== Testing with prefer_raw=True ===\n",
      "\n",
      "Fetching: https://svelte.dev/docs/introduction\n",
      "Result (first 500 chars): ### Content from https://svelte.dev/docs/introduction (using raw version: https://github.com/sveltejs/svelte/raw/main/documentation/docs/01-introduction/01-overview.md)\n",
      "\n",
      "# 01-overview.md\n",
      "\n",
      "---\n",
      "title: Overview\n",
      "---\n",
      "\n",
      "Svelte is a framework for building user interfaces on the web. It uses a compiler to turn declarative components written in HTML, CSS and JavaScript...\n",
      "\n",
      "```svelte\n",
      "<!--- file: App.svelte --->\n",
      "<script>\n",
      "\tfunction greet() {\n",
      "\t\talert('Welcome to Svelte!');\n",
      "\t}\n",
      "</script>\n",
      "\n",
      "<button onclick={greet...\n",
      "\n",
      "Fetching: https://github.com/sveltejs/kit/blob/main/documentation/docs/10-getting-started/10-introduction.md\n",
      "Result (first 500 chars): ### Content from https://github.com/sveltejs/kit/blob/main/documentation/docs/10-getting-started/10-introduction.md (using raw version: https://raw.githubusercontent.com/sveltejs/vite-plugin-svelte/main/docs/config.md#hot)\n",
      "\n",
      "# Configuration\n",
      "\n",
      "`vite-plugin-svelte` accepts inline options that can be used to change its behaviour. An object can be passed to the first argument of the `svelte` plugin:\n",
      "\n",
      "```js\n",
      "// vite.config.js\n",
      "export default defineConfig({\n",
      "  plugins: [\n",
      "    svelte({\n",
      "      /* plugin option...\n",
      "\n"
     ]
    }
   ],
   "source": [
    "# Test URLs\n",
    "test_urls = [\n",
    "    # A URL with a GitHub edit link\n",
    "    \"https://svelte.dev/docs/introduction\",\n",
    "    \n",
    "    # A direct GitHub URL\n",
    "    \"https://github.com/sveltejs/kit/blob/main/documentation/docs/10-getting-started/10-introduction.md\"\n",
    "]\n",
    "\n",
    "# Test with prefer_raw=False first\n",
    "print(\"\\n=== Testing with prefer_raw=False ===\\n\")\n",
    "for url in test_urls:\n",
    "    print(f\"Fetching: {url}\")\n",
    "    result = await enhanced_browse_url(url, prefer_raw=False)\n",
    "    # Just print the first 500 characters to avoid overwhelming output\n",
    "    print(f\"Result (first 500 chars): {result[:500]}...\\n\")\n",
    "\n",
    "# Test with prefer_raw=True\n",
    "print(\"\\n=== Testing with prefer_raw=True ===\\n\")\n",
    "for url in test_urls:\n",
    "    print(f\"Fetching: {url}\")\n",
    "    result = await enhanced_browse_url(url, prefer_raw=True)\n",
    "    # Just print the first 500 characters to avoid overwhelming output\n",
    "    print(f\"Result (first 500 chars): {result[:500]}...\\n\")"
   ]
  },
  {
   "cell_type": "markdown",
   "metadata": {},
   "source": [
    "## Implementation Notes\n",
    "\n",
    "Based on our testing, here's the final integration plan for llm-browser:\n",
    "\n",
    "1. Add to `utils/url.py`:\n",
    "   - `github_url_to_raw(github_url)` function\n",
    "\n",
    "2. Add to `utils/html.py`:\n",
    "   - Enhance `extract_links()` to detect GitHub links\n",
    "   - Add `find_github_source_link()` function\n",
    "\n",
    "3. Modify `server.py`:\n",
    "   - Update `browse_url()` to check for GitHub links\n",
    "   - Add a `prefer_raw` parameter with default False\n",
    "   - Optionally fetch the raw content when a GitHub link is found\n",
    "\n",
    "4. Update `cli.py`:\n",
    "   - Add a `--prefer-raw` flag to the browser command\n",
    "   - Pass this value to the server configuration\n",
    "\n",
    "This implementation will seamlessly enhance the llm-browser to provide cleaner content for AI processing when documentation pages have GitHub source links available."
   ]
  }
 ],
 "metadata": {
  "kernelspec": {
   "display_name": ".venv",
   "language": "python",
   "name": "python3"
  },
  "language_info": {
   "codemirror_mode": {
    "name": "ipython",
    "version": 3
   },
   "file_extension": ".py",
   "mimetype": "text/x-python",
   "name": "python",
   "nbconvert_exporter": "python",
   "pygments_lexer": "ipython3",
   "version": "3.13.2"
  }
 },
 "nbformat": 4,
 "nbformat_minor": 2
}