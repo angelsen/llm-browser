{
 "cells": [
  {
   "cell_type": "markdown",
   "metadata": {},
   "source": [
    "# GitHub URL Conversion Tests\n",
    "\n",
    "This notebook tests functionality to convert GitHub URLs to raw content URLs."
   ]
  },
  {
   "cell_type": "code",
   "execution_count": null,
   "metadata": {},
   "outputs": [],
   "source": [
    "import sys\n",
    "import os\n",
    "\n",
    "# Add the parent directory to the path so we can import from the llm_browser package\n",
    "sys.path.append(os.path.abspath('..'))"
   ]
  },
  {
   "cell_type": "code",
   "execution_count": null,
   "metadata": {},
   "outputs": [],
   "source": [
    "# Import existing utilities\n",
    "from llm_browser.utils.url import normalize_url, is_valid_url\n",
    "\n",
    "# Define our new GitHub URL conversion function\n",
    "def github_url_to_raw(github_url: str) -> str:\n",
    "    \"\"\"\n",
    "    Convert a GitHub URL (edit or blob) to its raw.githubusercontent.com equivalent.\n",
    "    \n",
    "    Args:\n",
    "        github_url: A GitHub URL pointing to a file\n",
    "        \n",
    "    Returns:\n",
    "        URL for the raw content version\n",
    "    \"\"\"\n",
    "    # Handle different GitHub URL patterns\n",
    "    if \"github.com\" not in github_url:\n",
    "        return github_url\n",
    "        \n",
    "    # Extract query parameters to preserve them\n",
    "    url_parts = github_url.split('?', 1)\n",
    "    base_url = url_parts[0]\n",
    "    query = f\"?{url_parts[1]}\" if len(url_parts) > 1 else \"\"\n",
    "    \n",
    "    # Handle edit links\n",
    "    if \"/edit/\" in base_url:\n",
    "        # Convert /edit/ to /raw/\n",
    "        raw_url = base_url.replace(\"/edit/\", \"/raw/\")\n",
    "        return raw_url + query\n",
    "        \n",
    "    # Handle blob links\n",
    "    elif \"/blob/\" in base_url:\n",
    "        # Replace github.com with raw.githubusercontent.com and /blob/ with /\n",
    "        raw_url = base_url.replace(\"github.com\", \"raw.githubusercontent.com\")\n",
    "        raw_url = raw_url.replace(\"/blob/\", \"/\")\n",
    "        return raw_url + query\n",
    "        \n",
    "    return github_url"
   ]
  },
  {
   "cell_type": "markdown",
   "metadata": {},
   "source": [
    "## Test Cases\n",
    "\n",
    "Let's test our URL conversion function with various GitHub URLs."
   ]
  },
  {
   "cell_type": "code",
   "execution_count": null,
   "metadata": {},
   "outputs": [],
   "source": [
    "# Test case 1: GitHub blob URL with query parameter\n",
    "url1 = \"https://github.com/saadeghi/daisyui/blob/v5/packages/docs/src/routes/(routes)/docs/install/sveltekit/+page.md?plain=1\"\n",
    "print(f\"Original: {url1}\")\n",
    "print(f\"Converted: {github_url_to_raw(url1)}\")\n",
    "print()"
   ]
  },
  {
   "cell_type": "code",
   "execution_count": null,
   "metadata": {},
   "outputs": [],
   "source": [
    "# Test case 2: GitHub edit URL\n",
    "url2 = \"https://github.com/sveltejs/kit/edit/main/documentation/docs/10-getting-started/10-introduction.md\"\n",
    "print(f\"Original: {url2}\")\n",
    "print(f\"Converted: {github_url_to_raw(url2)}\")\n",
    "print()"
   ]
  },
  {
   "cell_type": "code",
   "execution_count": null,
   "metadata": {},
   "outputs": [],
   "source": [
    "# Test case 3: Already raw URL - should remain unchanged\n",
    "url3 = \"https://raw.githubusercontent.com/sveltejs/kit/main/documentation/docs/10-getting-started/10-introduction.md\"\n",
    "print(f\"Original: {url3}\")\n",
    "print(f\"Converted: {github_url_to_raw(url3)}\")\n",
    "print()"
   ]
  },
  {
   "cell_type": "code",
   "execution_count": null,
   "metadata": {},
   "outputs": [],
   "source": [
    "# Test case 4: Non-GitHub URL - should remain unchanged\n",
    "url4 = \"https://example.com/some/path\"\n",
    "print(f\"Original: {url4}\")\n",
    "print(f\"Converted: {github_url_to_raw(url4)}\")\n",
    "print()"
   ]
  },
  {
   "cell_type": "markdown",
   "metadata": {},
   "source": [
    "## Testing with BS4 for Link Extraction\n",
    "\n",
    "Now let's test extracting GitHub links from HTML."
   ]
  },
  {
   "cell_type": "code",
   "execution_count": null,
   "metadata": {},
   "outputs": [],
   "source": [
    "from bs4 import BeautifulSoup\n",
    "\n",
    "def extract_github_links(html: str):\n",
    "    \"\"\"Extract GitHub edit/blob links from HTML content\"\"\"\n",
    "    soup = BeautifulSoup(html, \"html.parser\")\n",
    "    github_links = []\n",
    "    \n",
    "    for a_tag in soup.find_all(\"a\", href=True):\n",
    "        href = a_tag[\"href\"]\n",
    "        text = a_tag.get_text(strip=True)\n",
    "        \n",
    "        if \"github.com\" in href and (\"/blob/\" in href or \"/edit/\" in href):\n",
    "            github_links.append({\n",
    "                \"href\": href,\n",
    "                \"text\": text,\n",
    "                \"raw_url\": github_url_to_raw(href)\n",
    "            })\n",
    "            \n",
    "    return github_links"
   ]
  },
  {
   "cell_type": "code",
   "execution_count": null,
   "metadata": {},
   "outputs": [],
   "source": [
    "# Test with example HTML\n",
    "test_html = \"\"\"\n",
    "<div>\n",
    "    <a target=\"_blank\" rel=\"noopener, noreferrer\" class=\"link\" href=\"https://github.com/saadeghi/daisyui/blob/v5/packages/docs/src/routes/(routes)/docs/install/sveltekit/+page.md?plain=1\">Edit this page on GitHub</a>\n",
    "</div>\n",
    "<p>Some other content</p>\n",
    "<a class=\"svelte-72zfh9\" href=\"https://github.com/sveltejs/kit/edit/main/documentation/docs/10-getting-started/10-introduction.md\">\n",
    "    <svg class=\"svelte-r1j42q\" width=\"20\" height=\"20\"><use href=\"#edit\"></use></svg>\n",
    "    Edit this page on GitHub\n",
    "</a>\n",
    "\"\"\"\n",
    "\n",
    "github_links = extract_github_links(test_html)\n",
    "\n",
    "for i, link in enumerate(github_links, 1):\n",
    "    print(f\"Link {i}:\")\n",
    "    print(f\"  Text: {link['text']}\")\n",
    "    print(f\"  Original URL: {link['href']}\")\n",
    "    print(f\"  Raw URL: {link['raw_url']}\")\n",
    "    print()"
   ]
  },
  {
   "cell_type": "markdown",
   "metadata": {},
   "source": [
    "## Integration with llm-browser\n",
    "\n",
    "Notes on how to integrate this functionality into the main application:\n",
    "\n",
    "1. Add the `github_url_to_raw` function to `url.py`\n",
    "2. Enhance `extract_links` in `html.py` to detect GitHub links\n",
    "3. Update `browse_url` in `server.py` to optionally follow raw URLs\n",
    "4. Add CLI option to always prefer raw content\n",
    "\n",
    "This would allow the browser to automatically fetch the raw content version when encountering GitHub links."
   ]
  }
 ],
 "metadata": {
  "kernelspec": {
   "display_name": ".venv",
   "language": "python",
   "name": "python3"
  },
  "language_info": {
   "name": "python",
   "version": "3.13.2"
  }
 },
 "nbformat": 4,
 "nbformat_minor": 2
}